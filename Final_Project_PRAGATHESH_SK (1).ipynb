{
 "cells": [
  {
   "cell_type": "markdown",
   "id": "4fb4b704",
   "metadata": {},
   "source": [
    "# Data Science Tools and Practices"
   ]
  },
  {
   "cell_type": "markdown",
   "id": "2528af92",
   "metadata": {},
   "source": [
    "## Introduction\n",
    "This notebook presents an overview of data science tools, languages, libraries, and basic arithmetic operations using Python. It is created as part of a final project."
   ]
  },
  {
   "cell_type": "markdown",
   "id": "9354b5bd",
   "metadata": {},
   "source": [
    "## Data Science Languages\n",
    "Here are some popular languages used in data science:\n",
    "- Python\n",
    "- R\n",
    "- SQL\n",
    "- Julia\n",
    "- Scala"
   ]
  },
  {
   "cell_type": "markdown",
   "id": "2c7b20c4",
   "metadata": {},
   "source": [
    "## Data Science Libraries\n",
    "Common libraries used in data science include:\n",
    "- NumPy\n",
    "- Pandas\n",
    "- Matplotlib\n",
    "- Scikit-learn\n",
    "- TensorFlow"
   ]
  },
  {
   "cell_type": "markdown",
   "id": "f35946ba",
   "metadata": {},
   "source": [
    "## Data Science Tools  \n",
    "\n",
    "| Tool            | Description                          |\n",
    "|-----------------|--------------------------------------|\n",
    "| Jupyter Notebook| Interactive coding environment       |\n",
    "| RStudio         | IDE for R programming                |\n",
    "| Apache Spark    | Big data processing engine           |\n",
    "| Tableau         | Data visualization software          |\n",
    "| RapidMiner      | Data science platform                |"
   ]
  },
  {
   "cell_type": "markdown",
   "id": "fa5bf289",
   "metadata": {},
   "source": [
    "## Arithmetic Expressions in Python\n",
    "Python supports basic arithmetic operations such as:\n",
    "- Addition: `2 + 3`\n",
    "- Subtraction: `5 - 2`\n",
    "- Multiplication: `4 * 6`\n",
    "- Division: `8 / 2`"
   ]
  },
  {
   "cell_type": "code",
   "execution_count": null,
   "id": "1bce6b7d",
   "metadata": {},
   "outputs": [],
   "source": [
    "a = 5\n",
    "b = 4\n",
    "product = a * b\n",
    "sum_result = a + b\n",
    "print(\"Product:\", product)\n",
    "print(\"Sum:\", sum_result)"
   ]
  },
  {
   "cell_type": "code",
   "execution_count": null,
   "id": "7a790022",
   "metadata": {},
   "outputs": [],
   "source": [
    "minutes = 150\n",
    "hours = minutes / 60\n",
    "print(f\"{minutes} minutes is equal to {hours} hours.\")"
   ]
  },
  {
   "cell_type": "markdown",
   "id": "1d926532",
   "metadata": {},
   "source": [
    "## Objectives\n",
    "- Learn about data science languages and libraries\n",
    "- Create tables using Markdown\n",
    "- Perform arithmetic operations in code\n",
    "- Convert time units using Python"
   ]
  },
  {
   "cell_type": "markdown",
   "id": "78d2f5e6",
   "metadata": {},
   "source": [
    "**Author:** PRAGATHESH SK"
   ]
  },
  {
   "cell_type": "markdown",
   "id": "42ee97a8",
   "metadata": {},
   "source": [
    "## GitHub Link\n",
    "[Click here to view the notebook on GitHub](https://github.com/yourusername/yourrepository)"
   ]
  },
  {
   "cell_type": "markdown",
   "id": "dcdb4a3b",
   "metadata": {},
   "source": [
    "## GitHub Link\n",
    "[View on GitHub](https://github.com/PRAGATHESH-SK/data-science-final/blob/main/Final_Project_PRAGATHESH_SK.ipynb)"
   ]
  }
 ],
 "metadata": {},
 "nbformat": 4,
 "nbformat_minor": 5
}
